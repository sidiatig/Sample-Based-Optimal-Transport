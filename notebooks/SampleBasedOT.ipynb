{
 "cells": [
  {
   "cell_type": "code",
   "execution_count": 1,
   "metadata": {
    "collapsed": true
   },
   "outputs": [],
   "source": [
    "import numpy as np\n",
    "import scipy as sp\n",
    "import matplotlib.pyplot as plt\n",
    "from math import *\n",
    "\n",
    "%matplotlib inline"
   ]
  },
  {
   "cell_type": "markdown",
   "metadata": {},
   "source": [
    "# Sample Based Optimal Transport\n",
    "#### (Esteban and Max's algorithm, cf Sample Based optimal transport and Barycenter Problems, 2017, Tabak, Kuang)"
   ]
  },
  {
   "cell_type": "markdown",
   "metadata": {},
   "source": [
    "## Sample based Local optimal transport algorithm"
   ]
  },
  {
   "cell_type": "markdown",
   "metadata": {
    "collapsed": true
   },
   "source": [
    "## Initial data"
   ]
  },
  {
   "cell_type": "code",
   "execution_count": 2,
   "metadata": {
    "collapsed": true
   },
   "outputs": [],
   "source": [
    "#Samples\n",
    "#dimension of the samples\n",
    "d = 2\n",
    "#generate samples\n",
    "Nx = 100\n",
    "Ny = 90\n",
    "mu_s = np.array([0, 0])\n",
    "cov_s = np.array([[1, 0], [0, 1]])\n",
    "mu_t = np.array([2,2])\n",
    "cov_t = np.array([[9, 0], [0, 9]])\n",
    "xs = np.random.multivariate_normal(mu_s, cov_s, Nx)\n",
    "xt = np.random.multivariate_normal(mu_t, cov_t, Ny)"
   ]
  },
  {
   "cell_type": "code",
   "execution_count": 3,
   "metadata": {},
   "outputs": [
    {
     "data": {
      "image/png": "[encoded data removed]",
      "text/plain": [
       "<matplotlib.figure.Figure at 0x7f7123c4cf28>"
      ]
     },
     "metadata": {},
     "output_type": "display_data"
    }
   ],
   "source": [
    "plt.scatter(xs[:,0],xs[:,1], c = 'r', marker = 'x');\n",
    "plt.scatter(xt[:,0],xt[:,1], c = 'b', marker = '+');\n",
    "plt.axis('equal')\n",
    "plt.show()"
   ]
  },
  {
   "cell_type": "markdown",
   "metadata": {},
   "source": [
    "Features are input manually and saved in an $M\\times1$ vector $F(x) = \\begin{pmatrix} F_1(x) \\\\ \\vdots \\\\ F_M(x) \\end{pmatrix}$, for $x \\in \\mathbb{R}^d$\n",
    "\n",
    "Gradient of features are also input manually and saved in the $M \\times d$ \n",
    "$$\n",
    "\\nabla F(x) = GF(x)= \\left[ \\frac{\\partial F_i}{\\partial x_j}(x) \\right]_{\\substack{i=1,..,M\\\\j=1,..,d}}\n",
    "$$\n",
    "\n",
    "all of these functions are defined formally, hence the use of 'lambda' in the following Python code.\n",
    "\n",
    "In the following we add the following features: Projections on the basis $x \\mapsto x_i$, $i=1,2$, this checks that the means (coordinate by coordinate) is the same, and covariances $x \\mapsto x_i x_j$, $i,j=1,2$ to check that the covariances are the same."
   ]
  },
  {
   "cell_type": "code",
   "execution_count": 4,
   "metadata": {
    "collapsed": true
   },
   "outputs": [],
   "source": [
    "#Features \n",
    "features = []\n",
    "    #first append identity (projections)\n",
    "for i in range(d):\n",
    "    features.append(lambda x,iloc=i: x[iloc])\n",
    "    #Now append covariances\n",
    "for i in range(d):\n",
    "    for j in range(i+1):\n",
    "        features.append(lambda x,jloc=j,iloc=i: x[iloc]*x[jloc])\n",
    "        \n",
    "M = len(features)\n",
    "\n",
    "#Gradient of features\n",
    "gradfeatures = []\n",
    "#gradient of identities\n",
    "gradfeatures.append(lambda x: 1)\n",
    "gradfeatures.append(lambda x: 0)\n",
    "gradfeatures.append(lambda x: 0)\n",
    "gradfeatures.append(lambda x: 1)\n",
    "#gradient of covariances\n",
    "gradfeatures.append(lambda x: 2*x[0])\n",
    "gradfeatures.append(lambda x: 0)\n",
    "gradfeatures.append(lambda x: x[1])\n",
    "gradfeatures.append(lambda x: x[0])\n",
    "gradfeatures.append(lambda x: 0)\n",
    "gradfeatures.append(lambda x: 2*x[1])\n",
    "\n",
    "#Features vector \n",
    "F = lambda x: np.array([features[i](x) for i in range(len(features))])\n",
    "#Gradient of Features matrix M by d\n",
    "GF = lambda x: np.array([[gradfeatures[i*d+j](x) for j in range(d)] for i in range(M)])"
   ]
  },
  {
   "cell_type": "markdown",
   "metadata": {},
   "source": [
    "### Define the Implicit Gradient Descent solver for local optimal transport: \n",
    "Given two samples $(x_i)$ and $(y_j)$ 'close' enough, Theorem 8 (Tabak-Kuang, sample based optimal transport, 2017) asserts that finding a map that minimizes the transport cost is equivalent to finding a map that only satisfies the transport constraints.\n",
    "\n",
    "So it is enough to use a non-linear solver to solve for the constraint to find the optimal map. The sample based reformulation constraint is rewritten as $G(s) - b = 0$, with:\n",
    "$$\n",
    "G(s) = \\frac{1}{N_x} \\sum_{i=1}^{N_x} F \\left(x_i + s \\cdot \\nabla F(x_i)\\right), \\quad b = \\frac{1}{N_y} \\sum_{j=1}^{N_y} F(y_i)\n",
    "$$\n",
    "where we restricted our maps to be of the form $T(x) = x + s \\cdot \\nabla F (x)$ for $s \\in \\mathbb{R}^M$, and $s^* =G^{-1}(b)$ is the combination that yields the optimal map. Recall that $G:s \\in \\mathbb{R}^M \\to \\mathbb{R}^M$.\n",
    "\n",
    "In order to solve for $G(s) - b = 0$, we will minimize the function\n",
    "$$\n",
    "\\phi(s) = \\frac{1}{2} \\sum_{l=1}^M |G_l(s)-b_l|^2 \n",
    "$$\n",
    "by using an implicit gradient descent method, i.e. updates will be made following the implicit scheme:\n",
    "$$\n",
    "s_{n+1} = s_n - \\delta \\nabla \\phi(s_{n+1})\n",
    "$$\n",
    "We will approximate the gradient $\\nabla \\phi(s_{n+1})$ by\n",
    "$$\n",
    "\\nabla \\phi(s_{n+1}) \\approx \\nabla \\phi(s_{n}) + H\\phi(s_n) (s_{n+1}-s_n)\n",
    "$$\n",
    "where $H\\phi(s)$ is the Hessian of $\\phi$ at point $s$, which is the matrix of $\\left[ \\partial_{i,j} \\phi(s)  \\right]_{i,j}$\n",
    "\n",
    "This yields the following IGD update, after solving for $s_{n+1}$:\n",
    "$$\n",
    "s_{n+1} = s_n - \\delta \\left( I + \\delta H\\phi(s_n) \\right)^{-1} \\nabla \\phi(s_{n})\n",
    "$$\n",
    "notice that the small $\\delta$ limit yields the classical gradient descent, and the large $\\delta$ limit yields Newton's method.\n",
    "\n",
    "Finally, we compute $\\nabla \\phi(s_n)$ by\n",
    "$$\n",
    "\\nabla \\phi(s_n) = \\sum_{l=1}^M (G_l(s_n)-b_l) \\nabla G_l(s_n) = [G(s_n)-b] \\cdot \\nabla G(s_n)\n",
    "$$\n",
    "for $[\\nabla G(s)]_{k,j} = \\partial_j G_k(s) = \\frac{1}{Nx} \\sum_{i=1}^{N_x} \\sum_{p=1}^d [\\nabla F]_{j,p}(x_i) \\; [\\nabla F]_{k,p} (x_i + s \\cdot \\nabla F(x_i))$\n",
    "\n",
    "and to speed up computations, we will approximate $H\\phi(s)$ by dropping second order derivatives, which gives:\n",
    "$$\n",
    "[H\\phi(s)]_{i,j} \\approx \\sum_{l=1}^M \\partial_i G_l(s) \\partial_j G_l(s)\n",
    "$$\n",
    "\n",
    "\n",
    "The local OT solver takes in input $(x_i)$,$(y_j)$ which are source and target cloud points in $\\mathbb{R}^d$, as well as a set of feature functions $F:\\mathbb{R}^d \\to \\mathbb{R}^M$ and the jacobian matrix of $F$, $GF:\\mathbb{R}^d \\to \\mathbb{R}^{M \\times d}$.\n",
    "\n",
    "The output is a map $T: \\mathbb{R}^d \\to \\mathbb{R}^d$, that maps the source sample $(x_i)$ into a sample $(z_i)$ that shares similar features with the target sample $(y_j)$.\n",
    "\n",
    "The local OT solver will use an IGD solver that returns the optimal $s^*$ to reconstruct the map $T$."
   ]
  },
  {
   "cell_type": "code",
   "execution_count": 5,
   "metadata": {
    "collapsed": true
   },
   "outputs": [],
   "source": [
    "def igd_solver(Phi,GPhi,HPhi,M,tol=1e-1,Maxiter = 50):\n",
    "    '''Implicit Gradient Descent solver: takes as input a function Phi(s), its Jacobian matrix GPhi(s),\n",
    "     its Hessian matrix HPhi(s) (all defined as functions) and the dimension of s which is M,\n",
    "     and returns s* = argmin_s Phi(s)\n",
    "     \n",
    "     Input/type/description\n",
    "     M: int, dimension of the variable we are minimizing on\n",
    "     Phi: lambda (function) with input in R^M and output in R, function we are minimizing\n",
    "     GPhi: lambda (function) with input in R^M and output in R^M, gradient of Phi\n",
    "     HPhi: lambda (function) with input in R^M and output in R^{M \\times M}, Hessian of Phi\n",
    "     tol: float, max tolerance between two consecutive iteration to stop the algo\n",
    "     Maxiter: int, max iterations\n",
    "     \n",
    "     Output/type/description\n",
    "     s: M dimensional array of floats. Minimizer of Phi\n",
    "     '''\n",
    "    s = np.zeros(M)\n",
    "    Id = np.eye(M)\n",
    "    delta = 1.0\n",
    "    Phiold = Phi(s)\n",
    "    DescDir = np.linalg.solve(Id + delta*HPhi(s), GPhi(s)) # =(Id + delta*HPhi(s))^-1 * GPhi(s) \n",
    "    for niter in range(Maxiter):\n",
    "        #compute new point\n",
    "        snew = s - delta*DescDir\n",
    "        Phinew = Phi(snew)\n",
    "        #if tolerance reached, break\n",
    "        if abs(Phinew-Phiold)<tol:\n",
    "            s = snew\n",
    "            break\n",
    "\n",
    "        if Phinew < Phiold:\n",
    "            s = snew #accept update of s\n",
    "            delta = 2*delta #increase delta\n",
    "            Phiold = Phinew #save value for comparison\n",
    "            DescDir = np.linalg.solve(Id + delta*HPhi(s) ,GPhi(s)) #compute new direction\n",
    "        else:\n",
    "            delta = delta / 2 #decrease delta, without accepting update of s           \n",
    "    return(s)\n",
    "\n",
    "def local_sot(x,y,F,GF,tol=1e-1,Maxiter=50,solver = igd_solver):\n",
    "    '''Solves the local optimal transport between two samples x and y, given a set of features\n",
    "    F and their gradient GF. More details in Tabak-Kuang, Sample based OT,2017.\n",
    "    This code assumes that the same features F are used to test equivalence of the samples \n",
    "    and to construct the transport maps. More precisely, maps T are sought to be of the form \n",
    "    T(x) = x + sum_{l=1}^M s_l F_l(x), for some coefficents s_l.\n",
    "    A consequence of this restriction is that both samples x and y have to belong to the same\n",
    "    euclidean space R^d (same dimension d), so that T : R^d -> R^d. \n",
    "    The number of samples in x and y can be different.\n",
    "    \n",
    "    Input/type/description\n",
    "    x: Array of floats (say of dimensions Nx \\times d), where Nx is the number of points and d the dimension. Source sample\n",
    "    y: Array of floats (say of dimensions Ny \\times d), where Ny is the number of points and d (same as x) the dimension. Target sample\n",
    "    F: lambda (function) with input in R^d and output in R^M. Represents the vector of features (M features)\n",
    "    GF: lambda (function) with input in R^d and output in R^{M \\times d}. Represents de gradient of F, each row represents the gradient (row vector) of a feature\n",
    "    tol: float. Tolerance for the non-linear solver (here we use implicit gradient descent)\n",
    "    Maxiter: int. Maximum number of iterations for the nonlinear solver.\n",
    "    solver: function with same inputs and outputs igd_solver. Minimization solver\n",
    "    \n",
    "    Output/type description\n",
    "    T: lambda (function) with input in R^d and output in R^d. Optimal transport map.\n",
    "    sopt: M dimensional array. Parameters to reconstruct the map (redundant with T)\n",
    "    '''\n",
    "\n",
    "    d = len(x[0])\n",
    "    Nx = len(x)\n",
    "    Ny = len(y)\n",
    "    M = len(F(y[0]))\n",
    "    b = (1/Ny) * sum([F(y[j]) for j in range(Ny)])\n",
    "    #preallocate the matrix A, where A_i =\\nabla F(x_i)\n",
    "    A = [GF(x[i]) for i in range(Nx)]\n",
    "    #Construct Phi, GPhi and HPhi to feed in minimization solver\n",
    "    G = lambda s: (1/Nx)*sum([F(x[i] + s.dot(A[i])) for i in range(Nx)])\n",
    "    dG = lambda s,j,k: (1/Nx)*sum([ A[i][j,p]*GF(x[i] + s.dot(A[i]))[k,p] for p in range(d) for i in range(Nx)])\n",
    "    GG = lambda s: np.array([[ dG(s,j,k) for j in range(M)] for k in range(M)])\n",
    "    Phi = lambda s: 0.5 * (np.linalg.norm(G(s)-b))**2\n",
    "    GPhi = lambda s: (G(s)-b).dot(GG(s))\n",
    "    HPhiij = lambda s,i,j: sum( [dG(s,i,l)*dG(s,j,l) for l in range(M)])\n",
    "    HPhi = lambda s: np.array([[HPhiij(s,i,j) for j in range(M)] for i in range(M)])\n",
    "    #solve using nonlinear solver\n",
    "    sopt = solver(Phi,GPhi,HPhi,M,tol,Maxiter)\n",
    "    #construct optimal map T\n",
    "    T = lambda x: x + sopt.dot(GF(x)) #maybe put GF as local here?\n",
    "    return(T, sopt)"
   ]
  },
  {
   "cell_type": "markdown",
   "metadata": {},
   "source": [
    "Testing Local OT algorithm"
   ]
  },
  {
   "cell_type": "code",
   "execution_count": 77,
   "metadata": {
    "collapsed": true
   },
   "outputs": [],
   "source": [
    "T, s = local_sot(xs,xt,F,GF,1e-2,100)"
   ]
  },
  {
   "cell_type": "code",
   "execution_count": 78,
   "metadata": {
    "collapsed": true
   },
   "outputs": [],
   "source": [
    "Txs = np.array([T(xs[i]) for i in range(len(xs))])"
   ]
  },
  {
   "cell_type": "code",
   "execution_count": 79,
   "metadata": {},
   "outputs": [
    {
     "data": {
      "image/png": "[encoded data removed]",
      "text/plain": [
       "<matplotlib.figure.Figure at 0x7f71216b04e0>"
      ]
     },
     "metadata": {},
     "output_type": "display_data"
    }
   ],
   "source": [
    "plt.scatter(Txs[:,0],Txs[:,1], c = 'r', marker = 'x');\n",
    "plt.scatter(xt[:,0],xt[:,1], c = 'b', marker = '+');\n",
    "plt.axis('equal')\n",
    "plt.show()"
   ]
  },
  {
   "cell_type": "code",
   "execution_count": 80,
   "metadata": {},
   "outputs": [
    {
     "name": "stdout",
     "output_type": "stream",
     "text": [
      "[ 4.31846952  4.82932315]\n",
      "[ 1.71207665  1.7138545 ] [ 1.831828   1.8330398]\n"
     ]
    }
   ],
   "source": [
    "print(T([1,1]))\n",
    "print(T([2,2])/T([1,1]),T([4,4])/T([2,2]))"
   ]
  },
  {
   "cell_type": "markdown",
   "metadata": {
    "collapsed": true
   },
   "source": [
    "## Sample based optimal transport algorithm"
   ]
  },
  {
   "cell_type": "code",
   "execution_count": 10,
   "metadata": {
    "collapsed": true
   },
   "outputs": [],
   "source": [
    "def sot(x,y,F,GF,K=10,tol=1e-1,Maxiter=50,local_ot = local_sot):\n",
    "    '''Solve the optimal transport between two samples x and y, given a set of features\n",
    "    F and their gradient GF, by using a local OT code to specify. More details in Tabak-Kuang, \n",
    "    Sample based OT,2017.\n",
    "    \n",
    "    Input/type/description\n",
    "    x: Array of floats (say of dimensions Nx \\times d), where Nx is the number of points and d the dimension. Source sample\n",
    "    y: Array of floats (say of dimensions Ny \\times d), where Ny is the number of points and d (same as x) the dimension. Target sample\n",
    "    F: lambda (function) with input in R^d and output in R^M. Represents the vector of features (M features)\n",
    "    GF: lambda (function) with input in R^d and output in R^{M \\times d}. Represents de gradient of F, each row represents the gradient (row vector) of a feature\n",
    "    K: int, number of intermediary distribution between x and y to consider\n",
    "    tol: float. Tolerance for the OT and local_ot solver\n",
    "    Maxiter: int. Maximum number of iterations for OT and local_ot solver\n",
    "    local_ot: solver for the local optimal transport problem, with same inputs and outputs as local_sot\n",
    "    \n",
    "    Output/type description\n",
    "    x_K : Nx \\times d array of floats. Image of the source sample to the target sample by the map\n",
    "    s_maps : K \\times M array of floats. s_maps[k] is the list of parameters that allows us to reconstruct the map between k and k+1. The composition of all these maps yields the final map.\n",
    "    '''\n",
    "    \n",
    "    Nx = len(x)\n",
    "    Ny = len(y)\n",
    "    d = len(y[0])\n",
    "    M = len(F(y[0]))\n",
    "    \n",
    "    s_maps = np.zeros((K,M))\n",
    "    #Initialize intermediary distributions\n",
    "    x_K = np.array([y[np.random.randint(0,Ny)] for i in range(Nx)])\n",
    "    mu = []\n",
    "    mu.append(x)\n",
    "    for k in range(1,K):\n",
    "        z = (1-k/K)*x+(k/K)*x_K\n",
    "        mu.append(z)\n",
    "    mu.append(y)\n",
    "    \n",
    "    for niter in range(Maxiter):\n",
    "        x_Kold=x_K\n",
    "        z = x\n",
    "        #solve local OT's\n",
    "        for k in range(1,K+1):\n",
    "            Tloc, s = local_ot(z,mu[k],F,GF,tol,Maxiter)\n",
    "            s_maps[k-1] = s\n",
    "            z = np.array([Tloc(z[i]) for i in range(Nx)])\n",
    "        x_K = z\n",
    "        if (1/Nx)*np.linalg.norm(x_K-x_Kold)<tol:\n",
    "            break\n",
    "        #update intermediate distributions\n",
    "        for k in range(1,K):\n",
    "            mu[k] = (1-k/K)*x+(k/K)*x_K\n",
    "            \n",
    "    return(x_K, s_maps)"
   ]
  },
  {
   "cell_type": "markdown",
   "metadata": {},
   "source": [
    "#### Testing SOT algorithm"
   ]
  },
  {
   "cell_type": "code",
   "execution_count": 83,
   "metadata": {
    "collapsed": true
   },
   "outputs": [],
   "source": [
    "Txs, params = sot(xs,xt,F,GF,10,1e-2,100)"
   ]
  },
  {
   "cell_type": "code",
   "execution_count": 84,
   "metadata": {},
   "outputs": [
    {
     "data": {
      "image/png": "[encoded data removed]",
      "text/plain": [
       "<matplotlib.figure.Figure at 0x7f71213d6c50>"
      ]
     },
     "metadata": {},
     "output_type": "display_data"
    }
   ],
   "source": [
    "plt.scatter(Txs[:,0],Txs[:,1], c = 'r', marker = 'x');\n",
    "plt.scatter(xt[:,0],xt[:,1], c = 'b', marker = '+');\n",
    "plt.axis('equal')\n",
    "plt.show()"
   ]
  },
  {
   "cell_type": "code",
   "execution_count": 90,
   "metadata": {
    "collapsed": true
   },
   "outputs": [],
   "source": [
    "def ot_map(GF,s_maps):\n",
    "    '''Reconstructs optimal transport map given the basis functions and the coefficients\n",
    "    of the local maps at every steps. Returns the composition of these local maps.\n",
    "    \n",
    "    Input/type/description\n",
    "    GF: M \\times d array of lambda (functions). Contains basis functions for the map\n",
    "    s_maps: K \\times M array of floats. Each line represents the M coefficients to reconstruct\n",
    "            the local map from step k to k+1.\n",
    "    \n",
    "    Output/type description\n",
    "    Tnew : lambda (function) with input in R^d and output in R^d. Optimal transport map\n",
    "    '''\n",
    "    K, M = s_maps.shape\n",
    "    Tnew = lambda x: x + s_maps[0].dot(GF(x))\n",
    "    for k in range(1,K):\n",
    "        Told = Tnew\n",
    "        Tnew = lambda x, Toldloc = Told, kloc = k: Toldloc(x) + s_maps[kloc].dot(GF(Toldloc(x)))\n",
    "    return(Tnew)"
   ]
  },
  {
   "cell_type": "markdown",
   "metadata": {},
   "source": [
    "#### Testing ot_map"
   ]
  },
  {
   "cell_type": "code",
   "execution_count": 92,
   "metadata": {
    "collapsed": true
   },
   "outputs": [],
   "source": [
    "T2 = ot_map(GF,params)"
   ]
  },
  {
   "cell_type": "code",
   "execution_count": 93,
   "metadata": {
    "collapsed": true
   },
   "outputs": [],
   "source": [
    "Txs2 = np.array([T2(xs[k]) for k in range(len(xs))])"
   ]
  },
  {
   "cell_type": "code",
   "execution_count": 95,
   "metadata": {},
   "outputs": [
    {
     "data": {
      "image/png": "[encoded data removed]",
      "text/plain": [
       "<matplotlib.figure.Figure at 0x7f712112c588>"
      ]
     },
     "metadata": {},
     "output_type": "display_data"
    }
   ],
   "source": [
    "plt.scatter(Txs2[:,0], Txs2[:,1], c = 'r', marker = 'x')\n",
    "plt.scatter(xt[:,0],xt[:,1], c = 'g', marker = 'o');"
   ]
  },
  {
   "cell_type": "code",
   "execution_count": null,
   "metadata": {
    "collapsed": true
   },
   "outputs": [],
   "source": []
  }
 ],
 "metadata": {
  "kernelspec": {
   "display_name": "Python 3",
   "language": "python",
   "name": "python3"
  },
  "language_info": {
   "codemirror_mode": {
    "name": "ipython",
    "version": 3
   },
   "file_extension": ".py",
   "mimetype": "text/x-python",
   "name": "python",
   "nbconvert_exporter": "python",
   "pygments_lexer": "ipython3",
   "version": "3.6.2"
  }
 },
 "nbformat": 4,
 "nbformat_minor": 2
}
